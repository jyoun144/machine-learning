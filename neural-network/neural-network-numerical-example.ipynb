{
 "cells": [
  {
   "cell_type": "markdown",
   "metadata": {},
   "source": [
    "## <span style='color:Blue'> Numerical Forward and Backward Propagating Neural Network Example </span>\n",
    "## <span style='color:Blue'> Author:  Jack Young </span>\n",
    "The following Python code is based upon the following source.  Also, this figure was adapted from the same source.\n",
    "\n",
    "\n",
    "<img src=\"neural-network-example.jpeg\" width =\"550\" height=550 />\n",
    "<span style=style='font-weight: bold;'>Source:</span> Matt Mazur. \"A Step by Step Backpropagation Example\"<br>\n",
    "https://mattmazur.com/2015/03/17/a-step-by-step-backpropagation-example/ <br>"
   ]
  },
  {
   "cell_type": "code",
   "execution_count": 1,
   "metadata": {},
   "outputs": [],
   "source": [
    "import numpy as np\n",
    "import math\n",
    "import pandas as pd"
   ]
  },
  {
   "cell_type": "code",
   "execution_count": 2,
   "metadata": {},
   "outputs": [],
   "source": [
    "class NeuralNetwork:\n",
    "    def __init__(self, x, y, w, b, numOfIterations, alpha=0.5):\n",
    "        self.x = x\n",
    "        self.y = y\n",
    "        self.w = w\n",
    "        self.b = b\n",
    "        self.alpha = classValues  \n",
    "        self.numOfIterations = numOfIterations  \n",
    "        self.alpha = alpha  \n",
    "        self.m = len(y)\n",
    "        self.numOfLayers = w.shape[0]\n",
    "    def f(z):\n",
    "        return 1/(1+np.exp(-z))\n",
    "    def fprime(z):\n",
    "        return f(z)*(1-f(z))\n",
    "    def delta(y, h, z):\n",
    "        return -1*(y-h)*fprime(z)\n",
    "        \n",
    "    def processData(self):\n",
    "        result = {}\n",
    "        return result"
   ]
  },
  {
   "cell_type": "code",
   "execution_count": 3,
   "metadata": {},
   "outputs": [],
   "source": [
    "def f(z):\n",
    "    return 1/(1+np.exp(-z))\n",
    "def fprime(z):\n",
    "    return f(z)*(1-f(z))\n",
    "def delta(y, h, z):\n",
    "    return -1*(y-h)*fprime(z)"
   ]
  },
  {
   "cell_type": "code",
   "execution_count": 22,
   "metadata": {},
   "outputs": [
    {
     "data": {
      "text/plain": [
       "(2, 2, 2)"
      ]
     },
     "execution_count": 22,
     "metadata": {},
     "output_type": "execute_result"
    }
   ],
   "source": [
    "X = np.array([0.05, 0.10])\n",
    "Y = np.array([0.01, 0.99])\n",
    "\n",
    "W = np.array([\n",
    "                [[0.15, 0.20],\n",
    "                 [0.25, 0.30]],\n",
    "                [[0.40, 0.45],\n",
    "                 [0.50, 0.55]]\n",
    "            ])\n",
    "B = np.array([[0.35, 0.35],\n",
    "              [0.60, 0.60]])\n",
    "W.shape"
   ]
  },
  {
   "cell_type": "code",
   "execution_count": 5,
   "metadata": {},
   "outputs": [
    {
     "name": "stdout",
     "output_type": "stream",
     "text": [
      "----------Forward Propagation----------\n",
      "z_2: [0.3775 0.3925]\n",
      "z_3: [1.10590597 1.2249214 ]\n",
      "h_2: [0.59326999 0.59688438]\n",
      "h_3: [0.75136507 0.77292847]\n"
     ]
    }
   ],
   "source": [
    "# Forward Propagation\n",
    "\n",
    "z_2 = W[0] @ X + B[0]\n",
    "h_2 = f(z_2)\n",
    "z_3 = W[1] @ h_2 + B[1]\n",
    "h_3 = f(z_3)\n",
    "print('----------Forward Propagation----------')\n",
    "print('z_2: {}'.format(z_2))\n",
    "print('z_3: {}'.format(z_3))\n",
    "print('h_2: {}'.format(h_2))\n",
    "print('h_3: {}'.format(h_3))"
   ]
  },
  {
   "cell_type": "code",
   "execution_count": 6,
   "metadata": {},
   "outputs": [
    {
     "name": "stdout",
     "output_type": "stream",
     "text": [
      "cost_delta_w5: 0.08216704056423078\n",
      "cost_delta_w6: 0.08266762784753326\n",
      "cost_delta_w7: -0.022602540477475067\n",
      "cost_delta_w8: -0.02274024221597822\n"
     ]
    }
   ],
   "source": [
    "delta_3 = delta(Y,h_3,z_3)\n",
    "cost_delta_w5 = delta_3[0]* h_2[0]\n",
    "cost_delta_w6 = delta_3[0]* h_2[1]\n",
    "cost_delta_w7 = delta_3[1]* h_2[0]\n",
    "cost_delta_w8 = delta_3[1]* h_2[1]\n",
    "print('cost_delta_w5: {}'.format(cost_delta_w5))\n",
    "print('cost_delta_w6: {}'.format(cost_delta_w6))\n",
    "print('cost_delta_w7: {}'.format(cost_delta_w7))\n",
    "print('cost_delta_w8: {}'.format(cost_delta_w8))"
   ]
  },
  {
   "cell_type": "code",
   "execution_count": 19,
   "metadata": {},
   "outputs": [
    {
     "name": "stdout",
     "output_type": "stream",
     "text": [
      "0.00043856773447434685\n",
      "0.0008771354689486937\n",
      "0.0004373185719655327\n",
      "0.0008746371439310654\n"
     ]
    }
   ],
   "source": [
    "# Calculate deltas for w1, w2, w3 & w4\n",
    "\n",
    "Term1 = (  delta_3 * W[1][:,0]  ).sum()\n",
    "\n",
    "Term2A = h_2[0] * (1 -h_2[0])\n",
    "Term2B = h_2[1] * (1 - h_2[1])\n",
    "\n",
    "i1 = X[0]\n",
    "i2 = X[1]\n",
    "\n",
    "delta_w1 = Term1*Term2A*i1\n",
    "delta_w2 = Term1*Term2A*i2\n",
    "delta_w3 = Term1*Term2B*i1\n",
    "delta_w4 = Term1*Term2B*i2\n",
    "\n",
    "print(delta_w1)\n",
    "print(delta_w2)\n",
    "print(delta_w3)\n",
    "print(delta_w4)"
   ]
  },
  {
   "cell_type": "code",
   "execution_count": 21,
   "metadata": {},
   "outputs": [
    {
     "data": {
      "text/plain": [
       "array([[0.4 , 0.45],\n",
       "       [0.5 , 0.55]])"
      ]
     },
     "execution_count": 21,
     "metadata": {},
     "output_type": "execute_result"
    }
   ],
   "source": [
    "W[1]"
   ]
  },
  {
   "cell_type": "code",
   "execution_count": null,
   "metadata": {},
   "outputs": [],
   "source": []
  }
 ],
 "metadata": {
  "kernelspec": {
   "display_name": "Python 3",
   "language": "python",
   "name": "python3"
  },
  "language_info": {
   "codemirror_mode": {
    "name": "ipython",
    "version": 3
   },
   "file_extension": ".py",
   "mimetype": "text/x-python",
   "name": "python",
   "nbconvert_exporter": "python",
   "pygments_lexer": "ipython3",
   "version": "3.8.3"
  }
 },
 "nbformat": 4,
 "nbformat_minor": 4
}
