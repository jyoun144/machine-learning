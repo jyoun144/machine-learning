{
 "cells": [
  {
   "cell_type": "code",
   "execution_count": 1,
   "metadata": {},
   "outputs": [],
   "source": [
    "import numpy as np\n",
    "import math"
   ]
  },
  {
   "cell_type": "markdown",
   "metadata": {},
   "source": [
    "## <span style='color:Blue'> Numerical Forward and Backward Propagating Neural Network Example </span>\n",
    "## <span style='color:Blue'> Author:  Jack Young </span>\n",
    "The following Python code is based upon the following source.  Also, this figure was adapted from the same source.\n",
    "\n",
    "\n",
    "<img src=\"neural-network-example.jpeg\" width =\"550\" height=550 />\n",
    "<span style=style='font-weight: bold;'>Source:</span>  Code Wrestling. Back Propagation in Neural Network with an Example | Machine Learning (2019)<br>\n",
    "https://www.youtube.com/watch?v=GJXKOrqZauk&feature=youtu.be <br> \n"
   ]
  },
  {
   "cell_type": "code",
   "execution_count": 2,
   "metadata": {},
   "outputs": [
    {
     "name": "stdout",
     "output_type": "stream",
     "text": [
      "Weight matrix for hidden layer:\n",
      "[[0.15 0.2 ]\n",
      " [0.25 0.3 ]]\n",
      "Weight matrix for output layer:\n",
      "[[0.4  0.45]\n",
      " [0.5  0.55]]\n"
     ]
    }
   ],
   "source": [
    "w1 = np.array([[0.15, 0.20],[0.25, 0.30]])\n",
    "w2 = np.array([[0.40, 0.45],[0.50, 0.55]])\n",
    "W = np.array([w1,w2])\n",
    "b1 = np.array([0.35, 0.35])\n",
    "b2 = np.array([0.60, 0.60])\n",
    "x = np.array([0.05, 0.10])\n",
    "y = np.array([0.01, 0.99])\n",
    "# learning rate:\n",
    "alpha = 0.5\n",
    "print('Weight matrix for hidden layer:\\n{}'.format(w1))\n",
    "print('Weight matrix for output layer:\\n{}'.format(w2))"
   ]
  },
  {
   "cell_type": "code",
   "execution_count": 3,
   "metadata": {},
   "outputs": [],
   "source": [
    "def f(z):\n",
    "    return 1/(1+np.exp(-z))\n",
    "def fprime(z):\n",
    "    return f(z)*(1-f(z))\n",
    "def delta(y, h, z):\n",
    "    return -1*(y-h)*fprime(z)"
   ]
  },
  {
   "cell_type": "code",
   "execution_count": 4,
   "metadata": {},
   "outputs": [
    {
     "name": "stdout",
     "output_type": "stream",
     "text": [
      "h1: 0.5932699921071872\n",
      "h2: 0.596884378259767\n"
     ]
    }
   ],
   "source": [
    "z_h1 = (x[0] * W[0][0,0] + x[1]* W[0][0,1]) + b1[0]\n",
    "z_h2 = (x[0] * W[0][1,0] + x[1]* W[0][1,1]) + b1[1]\n",
    "h1 = f(z_h1)\n",
    "h2 = f(z_h2)\n",
    "print('h1: {}'.format(h1))\n",
    "print('h2: {}'.format(h2))"
   ]
  },
  {
   "cell_type": "code",
   "execution_count": 5,
   "metadata": {},
   "outputs": [
    {
     "name": "stdout",
     "output_type": "stream",
     "text": [
      "o1: 0.7513650695523157\n",
      "o2: 0.7729284653214625\n"
     ]
    }
   ],
   "source": [
    "z_o1 = (h1 * W[1][0,0] + h2 * W[1][0,1]) + b2[0]\n",
    "z_o2 = (h1 * W[1][1,0] + h2 * W[1][1,1]) + b2[1]\n",
    "o1 = f(z_o1)\n",
    "o2 = f(z_o2)\n",
    "print('o1: {}'.format(o1))\n",
    "print('o2: {}'.format(o2))"
   ]
  },
  {
   "cell_type": "code",
   "execution_count": 6,
   "metadata": {},
   "outputs": [
    {
     "name": "stdout",
     "output_type": "stream",
     "text": [
      "Vectorized values for h1 and h2: [0.59326999 0.59688438]\n",
      "Vectorized values for o1 and o2: [0.75136507 0.77292847]\n"
     ]
    }
   ],
   "source": [
    "z_h = W[0] @ x + b1\n",
    "h = f(z_h)\n",
    "print('Vectorized values for h1 and h2: {}'.format(h))\n",
    "z_o = W[1] @ h + b2\n",
    "o = f(z_o)\n",
    "print('Vectorized values for o1 and o2: {}'.format(o))"
   ]
  },
  {
   "cell_type": "code",
   "execution_count": 7,
   "metadata": {},
   "outputs": [
    {
     "name": "stdout",
     "output_type": "stream",
     "text": [
      "delta_w5: 0.08216704056423078\n",
      "delta_w6: 0.08266762784753326\n",
      "delta_w7: -0.022602540477475067\n",
      "delta_w8: -0.02274024221597822\n"
     ]
    }
   ],
   "source": [
    "delta_w5 = delta(y[0], o[0], z_o[0]) * h[0]\n",
    "delta_w6 = delta(y[0], o[0], z_o[0]) * h[1]\n",
    "delta_w7 = delta(y[1], o[1], z_o[1]) * h[0]\n",
    "delta_w8 = delta(y[1], o[1], z_o[1]) * h[1]\n",
    "print('delta_w5: {}'.format(delta_w5))\n",
    "print('delta_w6: {}'.format(delta_w6))\n",
    "print('delta_w7: {}'.format(delta_w7))\n",
    "print('delta_w8: {}'.format(delta_w8))\n"
   ]
  },
  {
   "cell_type": "code",
   "execution_count": 8,
   "metadata": {},
   "outputs": [],
   "source": [
    "# Calculate deltas for w1, w2, w3 & w4\n",
    "eo1 = (-(y[0]-o[0])) * (o[0]*(1 - o[0])) * W[1][0,0]\n",
    "eo2 = (-(y[1]-o[1])) * (o[1]*(1 - o[1])) * W[1][1,0]\n",
    "eTotal = eo1 + eo2\n",
    "Term1 = eTotal\n",
    "\n",
    "Term2A = h[0] * (1 - h[0])\n",
    "Term2B = h[1] * (1 - h[1])\n",
    "\n",
    "i1 = x[0]\n",
    "i2 = x[1]\n",
    "\n",
    "delta_w1 = Term1*Term2A*i1\n",
    "delta_w2 = Term1*Term2A*i2\n",
    "delta_w3 = Term1*Term2B*i1\n",
    "delta_w4 = Term1*Term2B*i2"
   ]
  },
  {
   "cell_type": "code",
   "execution_count": 9,
   "metadata": {},
   "outputs": [
    {
     "name": "stdout",
     "output_type": "stream",
     "text": [
      "------------OUTPUT LAYER------------\n",
      "new w5: 0.35891647971788465\n",
      "new w6: 0.4086661860762334\n",
      "new w7: 0.5113012702387375\n",
      "new w8: 0.5613701211079891\n",
      "------------HIDDEN LAYER------------\n",
      "new w1: 0.1497807161327628\n",
      "new w2: 0.19956143226552567\n",
      "new w3: 0.24978134071401722\n",
      "new w4: 0.29956268142803444\n"
     ]
    }
   ],
   "source": [
    "new_w5 = W[1][0,0] - alpha * delta_w5\n",
    "new_w6 = W[1][0,1] - alpha * delta_w6\n",
    "new_w7 = W[1][1,0] - alpha * delta_w7\n",
    "new_w8 = W[1][1,1] - alpha * delta_w8\n",
    "\n",
    "new_w1 = W[0][0,0] - alpha * delta_w1\n",
    "new_w2 = W[0][0,1] - alpha * delta_w2\n",
    "new_w3 = W[0][1,0] - alpha * delta_w3\n",
    "new_w4 = W[0][1,1] - alpha * delta_w4\n",
    "\n",
    "print('------------OUTPUT LAYER------------')\n",
    "print('new w5: {}'.format(new_w5))\n",
    "print('new w6: {}'.format(new_w6))\n",
    "print('new w7: {}'.format(new_w7))\n",
    "print('new w8: {}'.format(new_w8))\n",
    "print('------------HIDDEN LAYER------------')\n",
    "print('new w1: {}'.format(new_w1))\n",
    "print('new w2: {}'.format(new_w2))\n",
    "print('new w3: {}'.format(new_w3))\n",
    "print('new w4: {}'.format(new_w4))"
   ]
  },
  {
   "cell_type": "markdown",
   "metadata": {},
   "source": [
    "\\begin{equation*}\n",
    "\\mathbf{V}_1 \\times \\mathbf{V}_2 =  \\begin{vmatrix}\n",
    "\\mathbf{i} & \\mathbf{j} & \\mathbf{k} \\\\\n",
    "\\frac{\\partial X}{\\partial u} &  \\frac{\\partial Y}{\\partial u} & 0 \\\\\n",
    "\\frac{\\partial X}{\\partial v} &  \\frac{\\partial Y}{\\partial v} & 0\n",
    "\\end{vmatrix}\n",
    "\\end{equation*}"
   ]
  }
 ],
 "metadata": {
  "kernelspec": {
   "display_name": "Python 3",
   "language": "python",
   "name": "python3"
  },
  "language_info": {
   "codemirror_mode": {
    "name": "ipython",
    "version": 3
   },
   "file_extension": ".py",
   "mimetype": "text/x-python",
   "name": "python",
   "nbconvert_exporter": "python",
   "pygments_lexer": "ipython3",
   "version": "3.8.3"
  }
 },
 "nbformat": 4,
 "nbformat_minor": 4
}
