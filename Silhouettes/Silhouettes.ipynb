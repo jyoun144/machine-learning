{
 "cells": [
  {
   "cell_type": "markdown",
   "metadata": {},
   "source": [
    "### <span style=\"color:blue\">Title: </span>  Calculating Silhouette Scores for Two and Three Clusters\n",
    "### <span style=\"color:blue\">Code Author:</span>  Jack Young\n",
    "### <span style=\"color:blue\">Date Created:</span>  11/24/2020"
   ]
  },
  {
   "cell_type": "markdown",
   "metadata": {},
   "source": [
    "The aim of the following Python code is to replicate silhouette scores {s(i)} from the following reference.  The target scores are illustrated at figure 2 and figure 3 for clustering with k = 2 and k = 3, respectively.\n",
    "### <span style=\"color:blue\">Reference:</span>\n",
    "[1] Peter J. Rousseeuw, *Silhouettes: A graphical aid to the interpretation and validation of cluster analysis*,\n",
    "Journal of Computational and Applied Mathematics,Volume 20,1987,Pages 53-65,ISSN 0377-0427, \n",
    "https://doi.org/10.1016/0377-0427(87)90125-7.\n",
    "(http://www.sciencedirect.com/science/article/pii/0377042787901257)"
   ]
  },
  {
   "cell_type": "code",
   "execution_count": 1,
   "metadata": {},
   "outputs": [],
   "source": [
    "import numpy as np\n",
    "import matplotlib.pyplot as plt\n",
    "import pandas as pd\n",
    "\n",
    "class NodeMgr:\n",
    "    # class constructor\n",
    "    def __init__(self, distanceDf, clusterDf):\n",
    "        self.distanceDf = distanceDf             \n",
    "        self.clusterDf = clusterDf\n",
    "        self.report = {'score':[], 'node':[], 'clusterId':[]}\n",
    "        \n",
    "    # Main method to orchestrate calculation of the following four silhouette score types:\n",
    "    # 1) a(i): average dissimilarity of element i to all other elements within the same cluster as element i \n",
    "    # 2) d(i): average dissimilarity of element i to all other elements within another cluster apart from element i\n",
    "    # 3) b(i): the minimum value of d(i) (i.e., the nearest outside cluster to element i)\n",
    "    # 4) s(i): silhouette clustering score for element i => s(i) = [b(i) - a(i)]/max{a(i), b(i)}\n",
    "    def getScores(self):        \n",
    "        clusterIds = np.unique(self.clusterDf['cluster'])\n",
    "        for i in np.arange(0, clusterIds.shape[0]):\n",
    "            currentClusterId = clusterIds[i]\n",
    "            nodeNames = self.clusterDf[self.clusterDf['cluster'] == currentClusterId]['node']           \n",
    "            outsideClusterIds = clusterIds[clusterIds != currentClusterId]    \n",
    "            for nodeName in nodeNames:\n",
    "                aScore = np.mean(self.getDistanceByClusterId(nodeName, currentClusterId))\n",
    "                bScores = np.zeros(len(outsideClusterIds))       \n",
    "                for j in np.arange(0, len(outsideClusterIds)):\n",
    "                    bScores[j] = np.mean(self.getDistanceByClusterId(nodeName, outsideClusterIds[j]))       \n",
    "                bScore = np.min(bScores)\n",
    "                sScore = (bScore - aScore)/np.maximum(aScore,bScore)                 \n",
    "                self.appendReport(sScore, nodeName,currentClusterId)\n",
    "        return self.getFinalReport()\n",
    "    \n",
    "    # For a given element and cluster, this method retrieves the corresponding within and between cluster \n",
    "    # distance entries from the source proximity table (variable 'proxData' within the following cell).\n",
    "    def getDistanceByClusterId(self, nodeName, clusterId):\n",
    "        distances = pd.Series([], dtype=np.float64)\n",
    "        distanceDfColumns = self.distanceDf.columns\n",
    "        clusterNodes = self.clusterDf[self.clusterDf['cluster']==clusterId]['node']        \n",
    "        indexClusterNodes = list(set(self.distanceDf.index).intersection(set(clusterNodes)))    \n",
    "        columnClusterNodes = list(set(self.distanceDf.columns).intersection(set(clusterNodes)))       \n",
    "        \n",
    "        # For a given cluster, retrieves entries that intersect with the target element column \n",
    "        if nodeName in distanceDfColumns and len(indexClusterNodes) > 0:\n",
    "            result1 = distances.append(self.distanceDf.loc[indexClusterNodes, nodeName])\n",
    "            result1 = result1[result1.notna()]            \n",
    "            if len(result1) > 0:\n",
    "                distances = distances.append(result1)    \n",
    "        \n",
    "        # For a given cluster, retrieves entries that intersect with the target element row/index\n",
    "        if nodeName in self.distanceDf.index and len(columnClusterNodes) > 0:\n",
    "            result2 = self.distanceDf.loc[nodeName, columnClusterNodes]\n",
    "            result2 = result2[result2.notna()]\n",
    "            if len(result2) > 0:\n",
    "                distances = distances.append(result2) \n",
    "        # Handle case if within cluster contains only one item\n",
    "        if distances.empty:\n",
    "            distances = distances.append(pd.Series([0]))\n",
    "        return distances     \n",
    "    \n",
    "    # Append result to report\n",
    "    def appendReport(self, score, nodeName, clusterId):\n",
    "        self.report['score'].append(np.round(score,2))\n",
    "        self.report['node'].append(nodeName)\n",
    "        self.report['clusterId'].append(clusterId)\n",
    "    \n",
    "    # Generate final report by creating data frame and sorting values by cluster and s(i) score columns\n",
    "    def getFinalReport(self):\n",
    "        finalDf = pd.DataFrame(self.report)\n",
    "        finalDf = finalDf.sort_values(by=['clusterId','score'], ascending=[True, False])\n",
    "        return finalDf            "
   ]
  },
  {
   "cell_type": "markdown",
   "metadata": {},
   "source": [
    "### <span style=\"color:blue\">Source Proximity Table (values were extracted from reference [1])</span>"
   ]
  },
  {
   "cell_type": "code",
   "execution_count": 2,
   "metadata": {},
   "outputs": [
    {
     "name": "stdout",
     "output_type": "stream",
     "text": [
      "SOURCE PROXIMITY TABLE:\n",
      "\n",
      "      BEL   BRA   CHI   CUB   EGY   FRA   IND   ISR   USA   USS   YUG\n",
      "BRA  5.58   NaN   NaN   NaN   NaN   NaN   NaN   NaN   NaN   NaN   NaN\n",
      "CHI  7.00  6.50   NaN   NaN   NaN   NaN   NaN   NaN   NaN   NaN   NaN\n",
      "CUB  7.08  7.00  3.83   NaN   NaN   NaN   NaN   NaN   NaN   NaN   NaN\n",
      "EGY  4.83  5.08  8.17  5.83   NaN   NaN   NaN   NaN   NaN   NaN   NaN\n",
      "FRA  2.17  5.75  6.67  6.92  4.92   NaN   NaN   NaN   NaN   NaN   NaN\n",
      "IND  6.42  5.00  5.58  6.00  4.67  6.42   NaN   NaN   NaN   NaN   NaN\n",
      "ISR  3.42  5.50  6.42  6.42  5.00  3.92  6.17   NaN   NaN   NaN   NaN\n",
      "USA  2.50  4.92  6.25  7.33  4.50  2.25  6.33  2.75   NaN   NaN   NaN\n",
      "USS  6.08  6.67  4.25  2.67  6.00  6.17  6.17  6.92  6.17   NaN   NaN\n",
      "YUG  5.25  6.83  4.50  3.75  5.75  5.42  6.08  5.83  6.67  3.67   NaN\n",
      "ZAI  4.75  3.00  6.08  6.67  5.00  5.58  4.83  6.17  5.67  6.50  6.92\n"
     ]
    }
   ],
   "source": [
    "proxData = pd.DataFrame(data=np.array([\n",
    "                       [5.58, np.nan, np.nan, np.nan,np.nan, np.nan, np.nan, np.nan, np.nan, np.nan, np.nan], \n",
    "                       [7.00,6.50, np.nan, np.nan, np.nan,np.nan, np.nan, np.nan, np.nan, np.nan, np.nan], \n",
    "                       [7.08,7.00,3.83, np.nan, np.nan, np.nan,np.nan, np.nan, np.nan, np.nan,np.nan], \n",
    "                       [4.83,5.08,8.17,5.83, np.nan, np.nan, np.nan,np.nan, np.nan, np.nan,np.nan],\n",
    "                       [2.17, 5.75, 6.67, 6.92, 4.92,np.nan, np.nan, np.nan,np.nan, np.nan,np.nan],\n",
    "                       [6.42,5.00,5.58,6.00,4.67,6.42,np.nan, np.nan, np.nan,np.nan, np.nan],\n",
    "                       [3.42,5.50,6.42,6.42,5.00,3.92,6.17,np.nan, np.nan, np.nan,np.nan],\n",
    "                       [2.50,4.92,6.25,7.33,4.50,2.25,6.33,2.75,np.nan, np.nan, np.nan],\n",
    "                       [6.08,6.67,4.25,2.67,6.00,6.17,6.17,6.92,6.17,np.nan, np.nan],\n",
    "                       [5.25,6.83,4.50,3.75,5.75,5.42,6.08,5.83,6.67,3.67, np.nan],\n",
    "                       [4.75,3.00,6.08,6.67,5.00,5.58,4.83,6.17,5.67,6.50,6.92]],\n",
    "                      dtype=np.float64),\n",
    "                        columns=['BEL', 'BRA', 'CHI', 'CUB', 'EGY','FRA','IND','ISR','USA','USS','YUG'],\n",
    "                      index=['BRA', 'CHI', 'CUB', 'EGY','FRA','IND','ISR','USA','USS','YUG', 'ZAI'],)\n",
    "\n",
    "print('SOURCE PROXIMITY TABLE:\\n\\n{}'.format(proxData))"
   ]
  },
  {
   "cell_type": "markdown",
   "metadata": {},
   "source": [
    "###  <span style=\"color:blue\">Calculate scores for two clusters</span>"
   ]
  },
  {
   "cell_type": "code",
   "execution_count": 3,
   "metadata": {
    "scrolled": true
   },
   "outputs": [
    {
     "name": "stdout",
     "output_type": "stream",
     "text": [
      "******TWO-CLUSTER CONFIGURATION*****\n",
      "   node  cluster\n",
      "0   BEL        1\n",
      "1   BRA        1\n",
      "2   EGY        1\n",
      "3   FRA        1\n",
      "4   ISR        1\n",
      "5   USA        1\n",
      "6   ZAI        1\n",
      "7   CHI        2\n",
      "8   CUB        2\n",
      "9   IND        2\n",
      "10  USS        2\n",
      "11  YUG        2\n",
      "\n",
      "******Silhouette Scores for Two Clusters******\n",
      "    score node  clusterId\n",
      "5    0.43  USA          1\n",
      "0    0.39  BEL          1\n",
      "3    0.35  FRA          1\n",
      "4    0.30  ISR          1\n",
      "1    0.22  BRA          1\n",
      "2    0.20  EGY          1\n",
      "6    0.19  ZAI          1\n",
      "8    0.40  CUB          2\n",
      "10   0.34  USS          2\n",
      "7    0.33  CHI          2\n",
      "11   0.26  YUG          2\n",
      "9   -0.04  IND          2\n"
     ]
    }
   ],
   "source": [
    "clusters2 = pd.DataFrame({'node':['BEL', 'BRA','EGY', 'FRA', 'ISR','USA','ZAI', 'CHI','CUB','IND','USS', 'YUG'],\n",
    "                          'cluster':[1,1,1,1,1,1,1,2,2,2,2,2]})\n",
    "print('******TWO-CLUSTER CONFIGURATION*****\\n{}\\n'.format(clusters2))\n",
    "\n",
    "obj2 = NodeMgr(proxData, clusters2)\n",
    "dfScoresTwoClusters = obj2.getScores()\n",
    "\n",
    "print('******Silhouette Scores for Two Clusters******\\n{}'.format(dfScoresTwoClusters))"
   ]
  },
  {
   "cell_type": "markdown",
   "metadata": {},
   "source": [
    "###  <span style=\"color:blue\">Calculate scores for three clusters</span>"
   ]
  },
  {
   "cell_type": "code",
   "execution_count": 4,
   "metadata": {},
   "outputs": [
    {
     "name": "stdout",
     "output_type": "stream",
     "text": [
      "******THREE-CLUSTER CONFIGURATION*****\n",
      "   node  cluster\n",
      "0   BEL        1\n",
      "1   EGY        1\n",
      "2   FRA        1\n",
      "3   ISR        1\n",
      "4   USA        1\n",
      "5   BRA        2\n",
      "6   IND        2\n",
      "7   ZAI        2\n",
      "8   CHI        3\n",
      "9   CUB        3\n",
      "10  USS        3\n",
      "11  YUG        3\n",
      "\n",
      "******Silhouette Scores for Three Clusters******\n",
      "    score node  clusterId\n",
      "4    0.47  USA          1\n",
      "2    0.44  FRA          1\n",
      "0    0.42  BEL          1\n",
      "3    0.37  ISR          1\n",
      "1    0.02  EGY          1\n",
      "7    0.28  ZAI          2\n",
      "5    0.25  BRA          2\n",
      "6    0.17  IND          2\n",
      "9    0.48  CUB          3\n",
      "10   0.44  USS          3\n",
      "8    0.31  CHI          3\n",
      "11   0.31  YUG          3\n"
     ]
    }
   ],
   "source": [
    "clusters3 = pd.DataFrame({'node':['BEL', 'EGY','FRA', 'ISR','USA','BRA','IND','ZAI', 'CHI','CUB','USS', 'YUG'],\n",
    "                          'cluster':[1,1,1,1,1,2,2,2,3,3,3,3]})\n",
    "print('******THREE-CLUSTER CONFIGURATION*****\\n{}\\n'.format(clusters3))\n",
    "\n",
    "obj3 = NodeMgr(proxData, clusters3)\n",
    "dfScoresThreeClusters = obj3.getScores()\n",
    "\n",
    "print('******Silhouette Scores for Three Clusters******\\n{}'.format(dfScoresThreeClusters))"
   ]
  }
 ],
 "metadata": {
  "kernelspec": {
   "display_name": "Python 3",
   "language": "python",
   "name": "python3"
  },
  "language_info": {
   "codemirror_mode": {
    "name": "ipython",
    "version": 3
   },
   "file_extension": ".py",
   "mimetype": "text/x-python",
   "name": "python",
   "nbconvert_exporter": "python",
   "pygments_lexer": "ipython3",
   "version": "3.8.3"
  }
 },
 "nbformat": 4,
 "nbformat_minor": 4
}
